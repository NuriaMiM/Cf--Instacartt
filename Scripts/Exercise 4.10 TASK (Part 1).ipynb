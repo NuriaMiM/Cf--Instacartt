{
 "cells": [
  {
   "cell_type": "markdown",
   "id": "cb5bd96b-566f-4078-a8f6-725e702b9332",
   "metadata": {},
   "source": [
    "# Exercise 4.10 TASK (Part 1)"
   ]
  },
  {
   "cell_type": "markdown",
   "id": "d7681061-8d08-4c29-854e-f2e45ead3e17",
   "metadata": {},
   "source": [
    "### Importing"
   ]
  },
  {
   "cell_type": "code",
   "execution_count": 2,
   "id": "647411c3-482e-498f-8727-f14826a13836",
   "metadata": {},
   "outputs": [],
   "source": [
    "# Importing Libraries\n",
    "import pandas as pd\n",
    "import numpy as np\n",
    "import os\n",
    "import matplotlib.pyplot as plt\n",
    "import seaborn as sns\n",
    "import scipy"
   ]
  },
  {
   "cell_type": "code",
   "execution_count": 2,
   "id": "bebc380c-e535-4d69-99df-12eecff9be5a",
   "metadata": {},
   "outputs": [],
   "source": [
    "# Importing Data\n",
    "path = r'C:\\Users\\nmiqu\\Desktop\\DATA\\CareerFoundry\\Data Analytics Immersion\\April-2024 Instacart Baket Analysis'\n",
    "df = pd.read_pickle(os.path.join(path, '02 Data', 'Prepared Data', 'cust_ords_prods.pkl'))"
   ]
  },
  {
   "cell_type": "code",
   "execution_count": 3,
   "id": "0e4b1be5-65ed-4f1d-b925-22397d592f9d",
   "metadata": {},
   "outputs": [
    {
     "data": {
      "text/plain": [
       "['product_id',\n",
       " 'product_name',\n",
       " 'aisle_id',\n",
       " 'department_id',\n",
       " 'prices',\n",
       " 'order_id',\n",
       " 'user_id',\n",
       " 'order_number',\n",
       " 'orders_day_of_week',\n",
       " 'hour_order_is_made',\n",
       " 'days_since_prior_order',\n",
       " 'add_to_cart_order',\n",
       " 'reordered',\n",
       " 'price_range',\n",
       " 'busiest_day',\n",
       " 'busiest days',\n",
       " 'Busiest hours',\n",
       " 'max_order',\n",
       " 'loyalty_flag',\n",
       " 'mean_spent',\n",
       " 'spender_type',\n",
       " 'frequency_of_order',\n",
       " 'frequency_type',\n",
       " 'gender',\n",
       " 'state',\n",
       " 'age',\n",
       " 'date_joined',\n",
       " 'n_dependants',\n",
       " 'fam_status',\n",
       " 'income',\n",
       " '_merge']"
      ]
     },
     "execution_count": 3,
     "metadata": {},
     "output_type": "execute_result"
    }
   ],
   "source": [
    "list(df)"
   ]
  },
  {
   "cell_type": "markdown",
   "id": "9bdaf29a-bd20-4b1d-b8ad-9d7ab8d009d3",
   "metadata": {
    "jp-MarkdownHeadingCollapsed": true
   },
   "source": [
    "### Step 2\n",
    "The information this Dataset contains does not include any personal details that could identify anyone. First and Last name columns have been already dropped, still, not even these would identify a particular person."
   ]
  },
  {
   "cell_type": "markdown",
   "id": "f78067ad-682e-49e1-9002-0b49fd0666bc",
   "metadata": {
    "jp-MarkdownHeadingCollapsed": true
   },
   "source": [
    "### Step 3"
   ]
  },
  {
   "cell_type": "code",
   "execution_count": 4,
   "id": "083fbf75-e64e-4234-9b6d-da366c8c9d56",
   "metadata": {},
   "outputs": [],
   "source": [
    "# Creating 'region' column\n",
    "result = []\n",
    "for value in df['state']:\n",
    "    if value in ['Maine', 'New Hampshire', 'Vermont', 'Massachusetts', 'Rhode Island', 'Connecticut', 'New York', 'Pennsylvania', 'New Jersey']:\n",
    "        result.append('Northeast')\n",
    "    elif value in ['Wisconsin', 'Michigan', 'Illinois', 'Indiana', 'Ohio', 'North Dakota', 'South Dakota', 'Nebraska', 'Kansas', 'Minnesota', 'Iowa', 'Missouri']:\n",
    "        result.append('Midwest')\n",
    "    elif value in ['Delaware', 'Maryland', 'District of Columbia', 'Virginia', 'West Virginia', 'North Carolina', 'South Carolina', 'Georgia', 'Florida', 'Kentucky', 'Tennessee', 'Mississippi', 'Alabama', 'Oklahoma', 'Texas', 'Arkansas', 'Louisiana']:\n",
    "        result.append('South')\n",
    "    elif value in ['Idaho', 'Montana', 'Wyoming', 'Nevada', 'Utah', 'Colorado', 'Arizona', 'New Mexico', 'Alaska', 'Washington', 'Oregon', 'California', 'Hawaii']:\n",
    "        result.append('West')"
   ]
  },
  {
   "cell_type": "code",
   "execution_count": 5,
   "id": "6076ddd9-5c01-4413-bd54-d806f385f96d",
   "metadata": {},
   "outputs": [],
   "source": [
    "df['region'] = result"
   ]
  },
  {
   "cell_type": "code",
   "execution_count": 6,
   "id": "d4fea732-1e68-451f-8cda-5cb4dba21528",
   "metadata": {},
   "outputs": [
    {
     "data": {
      "text/plain": [
       "region\n",
       "South        10801982\n",
       "West          8300617\n",
       "Midwest       7604016\n",
       "Northeast     5728444\n",
       "Name: count, dtype: int64"
      ]
     },
     "execution_count": 6,
     "metadata": {},
     "output_type": "execute_result"
    }
   ],
   "source": [
    "df['region'].value_counts(dropna = False)"
   ]
  },
  {
   "cell_type": "code",
   "execution_count": 7,
   "id": "a0ec390c-17ef-49c4-960c-5ba7ed07cb9b",
   "metadata": {},
   "outputs": [],
   "source": [
    "# Creating crosstab to explore spending habits geographycally\n",
    "crosstab = pd.crosstab(df['region'], df['spender_type'])"
   ]
  },
  {
   "cell_type": "code",
   "execution_count": 8,
   "id": "8092b028-0db5-486a-b8d8-55e782f7f4bc",
   "metadata": {},
   "outputs": [],
   "source": [
    "crosstab.to_clipboard()"
   ]
  },
  {
   "cell_type": "markdown",
   "id": "78d84259-15ac-4a6a-9f99-4816b7af71a8",
   "metadata": {},
   "source": [
    "This crosstabs lets us observe some useful information about customers. The highest lowspender operations are located in the South Region, but so is the highest number of Low spenders, this indicate that most customers are located in the South. If we transform the information to percentages, which gives us a more clear view, High spenders represent in each region a 2.05% in Midwest, 1.89% in Northeast, 1.94% in South and a 1.93% in the West.\n",
    "The distribution is similar in all regions"
   ]
  },
  {
   "cell_type": "markdown",
   "id": "426849c8-0c4a-484a-8fd5-85a973903e0e",
   "metadata": {},
   "source": [
    "### Step 4"
   ]
  },
  {
   "cell_type": "code",
   "execution_count": 9,
   "id": "daedb1aa-18a0-4e43-b20c-2d7d38f00efe",
   "metadata": {},
   "outputs": [],
   "source": [
    "df.loc[(df['max_order'] <= 5), 'activity_flag'] = 'Low activity'"
   ]
  },
  {
   "cell_type": "code",
   "execution_count": 10,
   "id": "4115d620-cd82-4eb9-abdb-efe90757bbe1",
   "metadata": {},
   "outputs": [],
   "source": [
    "df.loc[(df['max_order'] > 5), 'activity_flag'] = 'High activity'"
   ]
  },
  {
   "cell_type": "code",
   "execution_count": 11,
   "id": "b8b896c4-e20c-44a7-8171-f32a3b97e732",
   "metadata": {},
   "outputs": [
    {
     "data": {
      "text/plain": [
       "activity_flag\n",
       "High activity    30199644\n",
       "Low activity      2235415\n",
       "Name: count, dtype: int64"
      ]
     },
     "execution_count": 11,
     "metadata": {},
     "output_type": "execute_result"
    }
   ],
   "source": [
    "df['activity_flag'].value_counts()"
   ]
  },
  {
   "cell_type": "code",
   "execution_count": 12,
   "id": "359a1bec-5f6d-4b9c-b85e-1383202bc061",
   "metadata": {},
   "outputs": [],
   "source": [
    "df_exclusion = df[df['activity_flag'] == 'High activity']"
   ]
  },
  {
   "cell_type": "code",
   "execution_count": 13,
   "id": "e2935b49-828a-4328-831f-c29273a6180d",
   "metadata": {},
   "outputs": [
    {
     "data": {
      "text/plain": [
       "activity_flag\n",
       "High activity    30199644\n",
       "Name: count, dtype: int64"
      ]
     },
     "execution_count": 13,
     "metadata": {},
     "output_type": "execute_result"
    }
   ],
   "source": [
    "df_exclusion['activity_flag'].value_counts()"
   ]
  },
  {
   "cell_type": "code",
   "execution_count": 14,
   "id": "d2d8e75a-1da2-494a-aa17-5fddcbab633b",
   "metadata": {},
   "outputs": [],
   "source": [
    "df_exclusion.to_pickle(os.path.join(path, '02 Data', 'Prepared Data', 'high_activity_df.pkl'))"
   ]
  },
  {
   "cell_type": "markdown",
   "id": "fd9f26c7-d460-4f8b-bd61-91fd5130b9ac",
   "metadata": {},
   "source": [
    "### Step 5"
   ]
  },
  {
   "cell_type": "markdown",
   "id": "4f9f72db-4df2-404d-89f2-bba103e33d99",
   "metadata": {},
   "source": [
    "I found that I had to import the dataframe again because otherwise, trying the code for this step, python would return  'SettingWithCopyWarning from pandas.' error because it identified it as a slice of the dataframe. When I re-imported it, it worked."
   ]
  },
  {
   "cell_type": "code",
   "execution_count": 2,
   "id": "6947ca22-8e62-4277-86f8-28caa683b235",
   "metadata": {},
   "outputs": [],
   "source": [
    "path = r'C:\\Users\\nmiqu\\Desktop\\DATA\\CareerFoundry\\Data Analytics Immersion\\April-2024 Instacart Baket Analysis'\n",
    "df_exclusion = pd.read_pickle(os.path.join(path, '02 Data', 'Prepared Data', 'high_activity_df.pkl'))"
   ]
  },
  {
   "cell_type": "markdown",
   "id": "c1fdad98-a1dd-44ac-a938-2f58ab705fb8",
   "metadata": {},
   "source": [
    "First I will reformat the floats to make it more readable"
   ]
  },
  {
   "cell_type": "code",
   "execution_count": 3,
   "id": "5dad3085-0db6-41bc-9d65-2f3357aec21d",
   "metadata": {},
   "outputs": [],
   "source": [
    "pd.options.display.float_format = '{:.2f}'.format"
   ]
  },
  {
   "cell_type": "code",
   "execution_count": 4,
   "id": "c6445c7a-d99f-40f2-a09e-1d10b0c67c15",
   "metadata": {},
   "outputs": [
    {
     "data": {
      "text/html": [
       "<div>\n",
       "<style scoped>\n",
       "    .dataframe tbody tr th:only-of-type {\n",
       "        vertical-align: middle;\n",
       "    }\n",
       "\n",
       "    .dataframe tbody tr th {\n",
       "        vertical-align: top;\n",
       "    }\n",
       "\n",
       "    .dataframe thead th {\n",
       "        text-align: right;\n",
       "    }\n",
       "</style>\n",
       "<table border=\"1\" class=\"dataframe\">\n",
       "  <thead>\n",
       "    <tr style=\"text-align: right;\">\n",
       "      <th></th>\n",
       "      <th>income</th>\n",
       "      <th>age</th>\n",
       "      <th>n_dependants</th>\n",
       "      <th>hour_order_is_made</th>\n",
       "    </tr>\n",
       "  </thead>\n",
       "  <tbody>\n",
       "    <tr>\n",
       "      <th>count</th>\n",
       "      <td>30199644.00</td>\n",
       "      <td>30199644.00</td>\n",
       "      <td>30199644.00</td>\n",
       "      <td>30199644.00</td>\n",
       "    </tr>\n",
       "    <tr>\n",
       "      <th>mean</th>\n",
       "      <td>99767.86</td>\n",
       "      <td>49.47</td>\n",
       "      <td>1.50</td>\n",
       "      <td>13.40</td>\n",
       "    </tr>\n",
       "    <tr>\n",
       "      <th>std</th>\n",
       "      <td>43181.48</td>\n",
       "      <td>18.49</td>\n",
       "      <td>1.12</td>\n",
       "      <td>4.25</td>\n",
       "    </tr>\n",
       "    <tr>\n",
       "      <th>min</th>\n",
       "      <td>25903.00</td>\n",
       "      <td>18.00</td>\n",
       "      <td>0.00</td>\n",
       "      <td>0.00</td>\n",
       "    </tr>\n",
       "    <tr>\n",
       "      <th>33%</th>\n",
       "      <td>76561.00</td>\n",
       "      <td>39.00</td>\n",
       "      <td>1.00</td>\n",
       "      <td>11.00</td>\n",
       "    </tr>\n",
       "    <tr>\n",
       "      <th>50%</th>\n",
       "      <td>96820.00</td>\n",
       "      <td>49.00</td>\n",
       "      <td>2.00</td>\n",
       "      <td>13.00</td>\n",
       "    </tr>\n",
       "    <tr>\n",
       "      <th>66%</th>\n",
       "      <td>114351.00</td>\n",
       "      <td>60.00</td>\n",
       "      <td>2.00</td>\n",
       "      <td>15.00</td>\n",
       "    </tr>\n",
       "    <tr>\n",
       "      <th>max</th>\n",
       "      <td>593901.00</td>\n",
       "      <td>81.00</td>\n",
       "      <td>3.00</td>\n",
       "      <td>23.00</td>\n",
       "    </tr>\n",
       "  </tbody>\n",
       "</table>\n",
       "</div>"
      ],
      "text/plain": [
       "           income         age  n_dependants  hour_order_is_made\n",
       "count 30199644.00 30199644.00   30199644.00         30199644.00\n",
       "mean     99767.86       49.47          1.50               13.40\n",
       "std      43181.48       18.49          1.12                4.25\n",
       "min      25903.00       18.00          0.00                0.00\n",
       "33%      76561.00       39.00          1.00               11.00\n",
       "50%      96820.00       49.00          2.00               13.00\n",
       "66%     114351.00       60.00          2.00               15.00\n",
       "max     593901.00       81.00          3.00               23.00"
      ]
     },
     "execution_count": 4,
     "metadata": {},
     "output_type": "execute_result"
    }
   ],
   "source": [
    "df_exclusion[['income', 'age','n_dependants', 'hour_order_is_made']].describe(percentiles = [.33, .66])"
   ]
  },
  {
   "cell_type": "markdown",
   "id": "15432940-9c19-497d-b64e-c438da5219a7",
   "metadata": {},
   "source": [
    "I started flaging the income but soon encountered an error because a Nan value, I fixed it by dropping that row and kept on going with the rest of the flags:"
   ]
  },
  {
   "cell_type": "code",
   "execution_count": 5,
   "id": "ca211db1-ef40-4fff-b844-f43dfb27fb4b",
   "metadata": {},
   "outputs": [],
   "source": [
    "# Flag by INCOME\n",
    "result_2 = []\n",
    "for value in df_exclusion['income']:\n",
    "    if value <= 76099:\n",
    "        result_2.append('low income')\n",
    "    if (value >= 76100) & (value < 114142):\n",
    "        result_2.append('mid income')\n",
    "    if value >= 114142:\n",
    "        result_2.append('high income')"
   ]
  },
  {
   "cell_type": "code",
   "execution_count": 6,
   "id": "913183a2-c762-4ef4-afa3-f57617a421d6",
   "metadata": {},
   "outputs": [],
   "source": [
    "df_exclusion['income_type'] = result_2"
   ]
  },
  {
   "cell_type": "code",
   "execution_count": 7,
   "id": "bb51bcf1-bc7e-4b33-9265-9b2e6a6d2e4b",
   "metadata": {},
   "outputs": [
    {
     "data": {
      "text/html": [
       "<div>\n",
       "<style scoped>\n",
       "    .dataframe tbody tr th:only-of-type {\n",
       "        vertical-align: middle;\n",
       "    }\n",
       "\n",
       "    .dataframe tbody tr th {\n",
       "        vertical-align: top;\n",
       "    }\n",
       "\n",
       "    .dataframe thead th {\n",
       "        text-align: right;\n",
       "    }\n",
       "</style>\n",
       "<table border=\"1\" class=\"dataframe\">\n",
       "  <thead>\n",
       "    <tr style=\"text-align: right;\">\n",
       "      <th></th>\n",
       "      <th>product_id</th>\n",
       "      <th>product_name</th>\n",
       "      <th>aisle_id</th>\n",
       "      <th>department_id</th>\n",
       "      <th>prices</th>\n",
       "      <th>order_id</th>\n",
       "      <th>user_id</th>\n",
       "      <th>order_number</th>\n",
       "      <th>orders_day_of_week</th>\n",
       "      <th>hour_order_is_made</th>\n",
       "      <th>...</th>\n",
       "      <th>state</th>\n",
       "      <th>age</th>\n",
       "      <th>date_joined</th>\n",
       "      <th>n_dependants</th>\n",
       "      <th>fam_status</th>\n",
       "      <th>income</th>\n",
       "      <th>_merge</th>\n",
       "      <th>region</th>\n",
       "      <th>activity_flag</th>\n",
       "      <th>income_type</th>\n",
       "    </tr>\n",
       "  </thead>\n",
       "  <tbody>\n",
       "  </tbody>\n",
       "</table>\n",
       "<p>0 rows × 34 columns</p>\n",
       "</div>"
      ],
      "text/plain": [
       "Empty DataFrame\n",
       "Columns: [product_id, product_name, aisle_id, department_id, prices, order_id, user_id, order_number, orders_day_of_week, hour_order_is_made, days_since_prior_order, add_to_cart_order, reordered, price_range, busiest_day, busiest days, Busiest hours, max_order, loyalty_flag, mean_spent, spender_type, frequency_of_order, frequency_type, gender, state, age, date_joined, n_dependants, fam_status, income, _merge, region, activity_flag, income_type]\n",
       "Index: []\n",
       "\n",
       "[0 rows x 34 columns]"
      ]
     },
     "execution_count": 7,
     "metadata": {},
     "output_type": "execute_result"
    }
   ],
   "source": [
    "df_exclusion.loc[df_exclusion['income'].isna()]"
   ]
  },
  {
   "cell_type": "code",
   "execution_count": 8,
   "id": "c7bff9ef-c350-459f-8cb1-95f77ba5a842",
   "metadata": {},
   "outputs": [],
   "source": [
    "df_exclusion.dropna(subset = ['income'], inplace = True)"
   ]
  },
  {
   "cell_type": "code",
   "execution_count": 9,
   "id": "5807d3f1-432c-4e12-8091-e4a128c5a33b",
   "metadata": {},
   "outputs": [],
   "source": [
    "df_exclusion['income_type'] = result_2"
   ]
  },
  {
   "cell_type": "code",
   "execution_count": 10,
   "id": "882a7624-a6ad-45c4-8617-6a1d34b2f50f",
   "metadata": {},
   "outputs": [
    {
     "data": {
      "text/plain": [
       "income_type\n",
       "high income    10316038\n",
       "mid income     10014264\n",
       "low income      9869342\n",
       "Name: count, dtype: int64"
      ]
     },
     "execution_count": 10,
     "metadata": {},
     "output_type": "execute_result"
    }
   ],
   "source": [
    "df_exclusion['income_type'].value_counts()"
   ]
  },
  {
   "cell_type": "code",
   "execution_count": 11,
   "id": "71248db8-033b-47b6-a627-2a9ad4aefbc7",
   "metadata": {},
   "outputs": [],
   "source": [
    "# Flag by AGE\n",
    "result_3 = []\n",
    "for value in df_exclusion['age']:\n",
    "    if value < 30:\n",
    "       result_3.append('Young Adult')\n",
    "    if (value >= 30) & (value < 60):\n",
    "       result_3.append('Adult')\n",
    "    if value >= 60:\n",
    "       result_3.append('Elder')"
   ]
  },
  {
   "cell_type": "code",
   "execution_count": 12,
   "id": "a81799a1-1bef-486d-a1c9-dd7f7265d8e8",
   "metadata": {},
   "outputs": [],
   "source": [
    "df_exclusion['age_group'] = result_3"
   ]
  },
  {
   "cell_type": "code",
   "execution_count": 13,
   "id": "c389d67b-7dc2-46d2-851b-4dd73503d8bf",
   "metadata": {},
   "outputs": [
    {
     "data": {
      "text/plain": [
       "age_group\n",
       "Adult          14210113\n",
       "Elder          10315231\n",
       "Young Adult     5674300\n",
       "Name: count, dtype: int64"
      ]
     },
     "execution_count": 13,
     "metadata": {},
     "output_type": "execute_result"
    }
   ],
   "source": [
    "df_exclusion['age_group'].value_counts()"
   ]
  },
  {
   "cell_type": "code",
   "execution_count": 14,
   "id": "0a71dc2c-0a78-47a8-a5f6-debb6fe30edd",
   "metadata": {},
   "outputs": [],
   "source": [
    "# Flag by HOUR_ORDER_IS_MADE\n",
    "result_5 = []\n",
    "for value in df_exclusion['hour_order_is_made']:\n",
    "    if value in [4, 5, 6, 7, 8, 9, 10, 11, 12, 13]:\n",
    "        result_5.append('Early Bird')\n",
    "    if value in [14, 15, 16, 17, 18, 19, 20, 21, 22, 23, 0, 1, 2, 3]:\n",
    "        result_5.append('Night Owl')"
   ]
  },
  {
   "cell_type": "code",
   "execution_count": 15,
   "id": "3d20544d-d065-413d-ab5c-bc6ce187c204",
   "metadata": {},
   "outputs": [],
   "source": [
    "df_exclusion['schedule'] = result_5"
   ]
  },
  {
   "cell_type": "code",
   "execution_count": 16,
   "id": "bb9bb373-4566-4a3e-8afc-d1ac0f81fbca",
   "metadata": {},
   "outputs": [
    {
     "data": {
      "text/plain": [
       "schedule\n",
       "Early Bird    15245418\n",
       "Night Owl     14954226\n",
       "Name: count, dtype: int64"
      ]
     },
     "execution_count": 16,
     "metadata": {},
     "output_type": "execute_result"
    }
   ],
   "source": [
    "df_exclusion['schedule'].value_counts()"
   ]
  },
  {
   "cell_type": "code",
   "execution_count": 17,
   "id": "dc764438-175c-4f85-b9d7-5e3a3d68f01a",
   "metadata": {},
   "outputs": [],
   "source": [
    "# Flag by N_DEPENDANTS\n",
    "result_6 = []\n",
    "for value in df_exclusion['n_dependants']:\n",
    "    if value == 0:\n",
    "        result_6.append('Non parent')\n",
    "    if value in [1, 2, 3]:\n",
    "        result_6.append('Parent')"
   ]
  },
  {
   "cell_type": "code",
   "execution_count": 18,
   "id": "78635f5d-ceb1-42d1-8538-62933781a974",
   "metadata": {},
   "outputs": [],
   "source": [
    "df_exclusion['parental_status'] = result_6"
   ]
  },
  {
   "cell_type": "code",
   "execution_count": 19,
   "id": "7aacb1bb-4d1c-4c04-9110-06acb8ad5d25",
   "metadata": {},
   "outputs": [
    {
     "data": {
      "text/plain": [
       "parental_status\n",
       "Parent        22653114\n",
       "Non parent     7546530\n",
       "Name: count, dtype: int64"
      ]
     },
     "execution_count": 19,
     "metadata": {},
     "output_type": "execute_result"
    }
   ],
   "source": [
    "df_exclusion['parental_status'].value_counts()"
   ]
  },
  {
   "cell_type": "markdown",
   "id": "defefb00-5d03-4182-a734-b717e4643c95",
   "metadata": {},
   "source": [
    "Now I will create more complex flags combining the flags I already just created"
   ]
  },
  {
   "cell_type": "code",
   "execution_count": 20,
   "id": "61ac6856-2ed1-4840-adbc-b92010297000",
   "metadata": {},
   "outputs": [],
   "source": [
    "# Combined flag AGE and N_DEPENDANTS\n",
    "df_exclusion.loc[(df_exclusion['age_group'] == 'Young Adult') & (df_exclusion['parental_status'] == 'Parent'), 'family_type'] = 'Young parent'\n",
    "df_exclusion.loc[(df_exclusion['age_group'] == 'Young Adult') & (df_exclusion['parental_status'] == 'Non parent'), 'family_type'] = 'Single young adult'\n",
    "df_exclusion.loc[(df_exclusion['age_group'] == 'Adult') & (df_exclusion['parental_status'] == 'Parent'), 'family_type'] = 'Middle age parent'\n",
    "df_exclusion.loc[(df_exclusion['age_group'] == 'Adult') & (df_exclusion['parental_status'] == 'Non parent'), 'family_type'] = 'Single middle age'\n",
    "df_exclusion.loc[(df_exclusion['age_group'] == 'Elder') & (df_exclusion['parental_status'] == 'Parent'), 'family_type'] = 'Senior parent'\n",
    "df_exclusion.loc[(df_exclusion['age_group'] == 'Elder') & (df_exclusion['parental_status'] == 'Non parent'), 'family_type'] = 'Single senior'"
   ]
  },
  {
   "cell_type": "code",
   "execution_count": 21,
   "id": "1df2701a-757c-401f-9e83-7ac98ff06e0d",
   "metadata": {},
   "outputs": [
    {
     "data": {
      "text/plain": [
       "family_type\n",
       "Middle age parent     10655458\n",
       "Senior parent          7734880\n",
       "Young parent           4262776\n",
       "Single middle age      3554655\n",
       "Single senior          2580351\n",
       "Single young adult     1411524\n",
       "Name: count, dtype: int64"
      ]
     },
     "execution_count": 21,
     "metadata": {},
     "output_type": "execute_result"
    }
   ],
   "source": [
    "df_exclusion['family_type'].value_counts()"
   ]
  },
  {
   "cell_type": "markdown",
   "id": "c3669063-34c8-42c5-ba14-d1de0f31df77",
   "metadata": {},
   "source": [
    "### Step 6"
   ]
  },
  {
   "cell_type": "markdown",
   "id": "9c02d9ea-8998-44e9-b4e2-e4e2c27163b1",
   "metadata": {},
   "source": [
    "The first plot is a simple distribution of the family types:"
   ]
  },
  {
   "cell_type": "code",
   "execution_count": null,
   "id": "f26644fd-38ae-4656-a6f7-84b4aceb7ef0",
   "metadata": {},
   "outputs": [],
   "source": [
    "family_type_bar = df_exclusion['family_type'].value_counts().plot.bar()"
   ]
  },
  {
   "cell_type": "code",
   "execution_count": 23,
   "id": "a6fbf0c2-f12f-4912-8a39-27dc2e7a5e00",
   "metadata": {},
   "outputs": [],
   "source": [
    "# Exporting the plot\n",
    "family_type_bar.figure.savefig(os.path.join(path, '04 Analysis','Visualizations', 'family_type_bar.png'))"
   ]
  },
  {
   "cell_type": "markdown",
   "id": "aa5acbf9-b9d2-4ff4-8d2b-ad3d961a7a90",
   "metadata": {},
   "source": [
    "I also looked up on Google how to make more interesting plot types and made the following:"
   ]
  },
  {
   "cell_type": "code",
   "execution_count": 24,
   "id": "1af10847-649f-40ce-a1c6-949af2f75c8f",
   "metadata": {},
   "outputs": [],
   "source": [
    "# Family type and income_type\n",
    "crosstab_1 = pd.crosstab(df_exclusion['family_type'], df_exclusion['income_type'], dropna = False)"
   ]
  },
  {
   "cell_type": "code",
   "execution_count": null,
   "id": "9817fde7-18dd-482e-a88d-7beccf05aed8",
   "metadata": {},
   "outputs": [],
   "source": [
    "income_by_family_type = crosstab_1.plot(kind = 'bar', stacked = True)"
   ]
  },
  {
   "cell_type": "code",
   "execution_count": 26,
   "id": "ef4a4374-a33b-43e9-888a-f0dd03748043",
   "metadata": {},
   "outputs": [],
   "source": [
    "income_by_family_type.figure.savefig(os.path.join(path, '04 Analysis', 'Visualizations', 'income_by_family_type.png'))"
   ]
  },
  {
   "cell_type": "code",
   "execution_count": 27,
   "id": "a57eef97-fd03-4098-9d24-b67b67dc3e16",
   "metadata": {},
   "outputs": [],
   "source": [
    "# Region and family type\n",
    "crosstab_2 = pd.crosstab(df_exclusion['region'], df_exclusion['family_type'], dropna = False)"
   ]
  },
  {
   "cell_type": "code",
   "execution_count": null,
   "id": "fd0b6757-2cb0-4728-acbc-48286d82fed6",
   "metadata": {},
   "outputs": [],
   "source": [
    "family_type_by_region = crosstab_2.plot(kind = 'bar', stacked = True)\n",
    "family_type_by_region.legend(loc = 'center right', bbox_to_anchor = (1.5,1))\n",
    "family_type_by_region "
   ]
  },
  {
   "cell_type": "code",
   "execution_count": 29,
   "id": "477d289e-1bc0-4850-ae62-f2af386f2851",
   "metadata": {},
   "outputs": [],
   "source": [
    "family_type_by_region.figure.savefig(os.path.join(path, '04 Analysis', 'Visualizations', 'family_type_by_ region.png'))"
   ]
  },
  {
   "cell_type": "markdown",
   "id": "ab0d5116-4337-4d80-9879-d3d9b4f5d922",
   "metadata": {},
   "source": [
    "### Step 7"
   ]
  },
  {
   "cell_type": "code",
   "execution_count": 30,
   "id": "9a3da4bb-c2e9-42ec-a4fc-dc3b1e253c91",
   "metadata": {},
   "outputs": [
    {
     "data": {
      "text/html": [
       "<div>\n",
       "<style scoped>\n",
       "    .dataframe tbody tr th:only-of-type {\n",
       "        vertical-align: middle;\n",
       "    }\n",
       "\n",
       "    .dataframe tbody tr th {\n",
       "        vertical-align: top;\n",
       "    }\n",
       "\n",
       "    .dataframe thead tr th {\n",
       "        text-align: left;\n",
       "    }\n",
       "\n",
       "    .dataframe thead tr:last-of-type th {\n",
       "        text-align: right;\n",
       "    }\n",
       "</style>\n",
       "<table border=\"1\" class=\"dataframe\">\n",
       "  <thead>\n",
       "    <tr>\n",
       "      <th></th>\n",
       "      <th colspan=\"3\" halign=\"left\">frequency_of_order</th>\n",
       "    </tr>\n",
       "    <tr>\n",
       "      <th></th>\n",
       "      <th>max</th>\n",
       "      <th>min</th>\n",
       "      <th>mean</th>\n",
       "    </tr>\n",
       "    <tr>\n",
       "      <th>family_type</th>\n",
       "      <th></th>\n",
       "      <th></th>\n",
       "      <th></th>\n",
       "    </tr>\n",
       "  </thead>\n",
       "  <tbody>\n",
       "    <tr>\n",
       "      <th>Middle age parent</th>\n",
       "      <td>30.00</td>\n",
       "      <td>0.00</td>\n",
       "      <td>9.26</td>\n",
       "    </tr>\n",
       "    <tr>\n",
       "      <th>Senior parent</th>\n",
       "      <td>30.00</td>\n",
       "      <td>0.00</td>\n",
       "      <td>9.27</td>\n",
       "    </tr>\n",
       "    <tr>\n",
       "      <th>Single middle age</th>\n",
       "      <td>30.00</td>\n",
       "      <td>0.00</td>\n",
       "      <td>9.21</td>\n",
       "    </tr>\n",
       "    <tr>\n",
       "      <th>Single senior</th>\n",
       "      <td>30.00</td>\n",
       "      <td>0.00</td>\n",
       "      <td>9.18</td>\n",
       "    </tr>\n",
       "    <tr>\n",
       "      <th>Single young adult</th>\n",
       "      <td>30.00</td>\n",
       "      <td>0.00</td>\n",
       "      <td>9.31</td>\n",
       "    </tr>\n",
       "    <tr>\n",
       "      <th>Young parent</th>\n",
       "      <td>30.00</td>\n",
       "      <td>0.00</td>\n",
       "      <td>9.22</td>\n",
       "    </tr>\n",
       "  </tbody>\n",
       "</table>\n",
       "</div>"
      ],
      "text/plain": [
       "                   frequency_of_order          \n",
       "                                  max  min mean\n",
       "family_type                                    \n",
       "Middle age parent               30.00 0.00 9.26\n",
       "Senior parent                   30.00 0.00 9.27\n",
       "Single middle age               30.00 0.00 9.21\n",
       "Single senior                   30.00 0.00 9.18\n",
       "Single young adult              30.00 0.00 9.31\n",
       "Young parent                    30.00 0.00 9.22"
      ]
     },
     "execution_count": 30,
     "metadata": {},
     "output_type": "execute_result"
    }
   ],
   "source": [
    "# Frequency of order by family type\n",
    "df_exclusion.groupby('family_type').agg({'frequency_of_order' : ['max', 'min', 'mean']})"
   ]
  },
  {
   "cell_type": "code",
   "execution_count": 31,
   "id": "0c636189-8f13-4603-98fc-7447e8224af1",
   "metadata": {},
   "outputs": [
    {
     "data": {
      "text/html": [
       "<div>\n",
       "<style scoped>\n",
       "    .dataframe tbody tr th:only-of-type {\n",
       "        vertical-align: middle;\n",
       "    }\n",
       "\n",
       "    .dataframe tbody tr th {\n",
       "        vertical-align: top;\n",
       "    }\n",
       "\n",
       "    .dataframe thead tr th {\n",
       "        text-align: left;\n",
       "    }\n",
       "\n",
       "    .dataframe thead tr:last-of-type th {\n",
       "        text-align: right;\n",
       "    }\n",
       "</style>\n",
       "<table border=\"1\" class=\"dataframe\">\n",
       "  <thead>\n",
       "    <tr>\n",
       "      <th></th>\n",
       "      <th colspan=\"3\" halign=\"left\">mean_spent</th>\n",
       "    </tr>\n",
       "    <tr>\n",
       "      <th></th>\n",
       "      <th>max</th>\n",
       "      <th>min</th>\n",
       "      <th>mean</th>\n",
       "    </tr>\n",
       "    <tr>\n",
       "      <th>family_type</th>\n",
       "      <th></th>\n",
       "      <th></th>\n",
       "      <th></th>\n",
       "    </tr>\n",
       "  </thead>\n",
       "  <tbody>\n",
       "    <tr>\n",
       "      <th>Middle age parent</th>\n",
       "      <td>6389.51</td>\n",
       "      <td>1.00</td>\n",
       "      <td>11.77</td>\n",
       "    </tr>\n",
       "    <tr>\n",
       "      <th>Senior parent</th>\n",
       "      <td>3695.99</td>\n",
       "      <td>1.26</td>\n",
       "      <td>11.68</td>\n",
       "    </tr>\n",
       "    <tr>\n",
       "      <th>Single middle age</th>\n",
       "      <td>15006.94</td>\n",
       "      <td>1.10</td>\n",
       "      <td>12.25</td>\n",
       "    </tr>\n",
       "    <tr>\n",
       "      <th>Single senior</th>\n",
       "      <td>14042.51</td>\n",
       "      <td>1.31</td>\n",
       "      <td>11.60</td>\n",
       "    </tr>\n",
       "    <tr>\n",
       "      <th>Single young adult</th>\n",
       "      <td>8794.88</td>\n",
       "      <td>2.60</td>\n",
       "      <td>12.53</td>\n",
       "    </tr>\n",
       "    <tr>\n",
       "      <th>Young parent</th>\n",
       "      <td>10209.99</td>\n",
       "      <td>1.90</td>\n",
       "      <td>11.98</td>\n",
       "    </tr>\n",
       "  </tbody>\n",
       "</table>\n",
       "</div>"
      ],
      "text/plain": [
       "                   mean_spent           \n",
       "                          max  min  mean\n",
       "family_type                             \n",
       "Middle age parent     6389.51 1.00 11.77\n",
       "Senior parent         3695.99 1.26 11.68\n",
       "Single middle age    15006.94 1.10 12.25\n",
       "Single senior        14042.51 1.31 11.60\n",
       "Single young adult    8794.88 2.60 12.53\n",
       "Young parent         10209.99 1.90 11.98"
      ]
     },
     "execution_count": 31,
     "metadata": {},
     "output_type": "execute_result"
    }
   ],
   "source": [
    "# Spending by family type\n",
    "df_exclusion.groupby('family_type').agg({'mean_spent' : ['max', 'min', 'mean']})"
   ]
  },
  {
   "cell_type": "markdown",
   "id": "c90f3c39-cafb-4cf1-951f-b99e584cfa54",
   "metadata": {},
   "source": [
    "### Step 8"
   ]
  },
  {
   "cell_type": "markdown",
   "id": "f7b4343f-f9f9-44c6-87a7-cb37b1eeb9bc",
   "metadata": {},
   "source": [
    " Based on the information from the previous charts we can extract some useful information  \n",
    " - All family types have a similar frequency for orders, with a mean around 9 days.\n",
    " - Those who spend more money on groceries are Single middle age, and Single young adult.\n",
    " "
   ]
  },
  {
   "cell_type": "code",
   "execution_count": 50,
   "id": "685d5dc8-845e-470c-b617-cc932a9ee104",
   "metadata": {},
   "outputs": [],
   "source": [
    "crosstab_3 = pd.crosstab(df_exclusion['family_type'], df_exclusion['department_id'], normalize = 'index') * 100"
   ]
  },
  {
   "cell_type": "code",
   "execution_count": 51,
   "id": "121b3d4e-59e0-45d1-8ef9-ac562cf9467f",
   "metadata": {},
   "outputs": [
    {
     "data": {
      "text/html": [
       "<div>\n",
       "<style scoped>\n",
       "    .dataframe tbody tr th:only-of-type {\n",
       "        vertical-align: middle;\n",
       "    }\n",
       "\n",
       "    .dataframe tbody tr th {\n",
       "        vertical-align: top;\n",
       "    }\n",
       "\n",
       "    .dataframe thead th {\n",
       "        text-align: right;\n",
       "    }\n",
       "</style>\n",
       "<table border=\"1\" class=\"dataframe\">\n",
       "  <thead>\n",
       "    <tr style=\"text-align: right;\">\n",
       "      <th>department_id</th>\n",
       "      <th>1.00</th>\n",
       "      <th>2.00</th>\n",
       "      <th>3.00</th>\n",
       "      <th>4.00</th>\n",
       "      <th>5.00</th>\n",
       "      <th>6.00</th>\n",
       "      <th>7.00</th>\n",
       "      <th>8.00</th>\n",
       "      <th>9.00</th>\n",
       "      <th>10.00</th>\n",
       "      <th>...</th>\n",
       "      <th>12.00</th>\n",
       "      <th>13.00</th>\n",
       "      <th>14.00</th>\n",
       "      <th>15.00</th>\n",
       "      <th>16.00</th>\n",
       "      <th>17.00</th>\n",
       "      <th>18.00</th>\n",
       "      <th>19.00</th>\n",
       "      <th>20.00</th>\n",
       "      <th>21.00</th>\n",
       "    </tr>\n",
       "    <tr>\n",
       "      <th>family_type</th>\n",
       "      <th></th>\n",
       "      <th></th>\n",
       "      <th></th>\n",
       "      <th></th>\n",
       "      <th></th>\n",
       "      <th></th>\n",
       "      <th></th>\n",
       "      <th></th>\n",
       "      <th></th>\n",
       "      <th></th>\n",
       "      <th></th>\n",
       "      <th></th>\n",
       "      <th></th>\n",
       "      <th></th>\n",
       "      <th></th>\n",
       "      <th></th>\n",
       "      <th></th>\n",
       "      <th></th>\n",
       "      <th></th>\n",
       "      <th></th>\n",
       "      <th></th>\n",
       "    </tr>\n",
       "  </thead>\n",
       "  <tbody>\n",
       "    <tr>\n",
       "      <th>Middle age parent</th>\n",
       "      <td>6.80</td>\n",
       "      <td>0.11</td>\n",
       "      <td>3.61</td>\n",
       "      <td>29.36</td>\n",
       "      <td>0.46</td>\n",
       "      <td>0.82</td>\n",
       "      <td>8.30</td>\n",
       "      <td>0.29</td>\n",
       "      <td>2.65</td>\n",
       "      <td>0.11</td>\n",
       "      <td>...</td>\n",
       "      <td>2.18</td>\n",
       "      <td>5.75</td>\n",
       "      <td>2.16</td>\n",
       "      <td>3.25</td>\n",
       "      <td>16.75</td>\n",
       "      <td>2.26</td>\n",
       "      <td>1.34</td>\n",
       "      <td>8.98</td>\n",
       "      <td>3.22</td>\n",
       "      <td>0.21</td>\n",
       "    </tr>\n",
       "    <tr>\n",
       "      <th>Senior parent</th>\n",
       "      <td>6.85</td>\n",
       "      <td>0.11</td>\n",
       "      <td>3.62</td>\n",
       "      <td>29.39</td>\n",
       "      <td>0.45</td>\n",
       "      <td>0.81</td>\n",
       "      <td>8.37</td>\n",
       "      <td>0.30</td>\n",
       "      <td>2.64</td>\n",
       "      <td>0.11</td>\n",
       "      <td>...</td>\n",
       "      <td>2.20</td>\n",
       "      <td>5.76</td>\n",
       "      <td>2.16</td>\n",
       "      <td>3.27</td>\n",
       "      <td>16.67</td>\n",
       "      <td>2.29</td>\n",
       "      <td>1.32</td>\n",
       "      <td>8.90</td>\n",
       "      <td>3.24</td>\n",
       "      <td>0.21</td>\n",
       "    </tr>\n",
       "    <tr>\n",
       "      <th>Single middle age</th>\n",
       "      <td>6.80</td>\n",
       "      <td>0.12</td>\n",
       "      <td>3.66</td>\n",
       "      <td>29.47</td>\n",
       "      <td>0.51</td>\n",
       "      <td>0.83</td>\n",
       "      <td>8.34</td>\n",
       "      <td>0.30</td>\n",
       "      <td>2.59</td>\n",
       "      <td>0.11</td>\n",
       "      <td>...</td>\n",
       "      <td>2.11</td>\n",
       "      <td>5.70</td>\n",
       "      <td>2.15</td>\n",
       "      <td>3.26</td>\n",
       "      <td>16.78</td>\n",
       "      <td>2.19</td>\n",
       "      <td>1.34</td>\n",
       "      <td>8.90</td>\n",
       "      <td>3.28</td>\n",
       "      <td>0.21</td>\n",
       "    </tr>\n",
       "    <tr>\n",
       "      <th>Single senior</th>\n",
       "      <td>6.93</td>\n",
       "      <td>0.11</td>\n",
       "      <td>3.62</td>\n",
       "      <td>29.42</td>\n",
       "      <td>0.44</td>\n",
       "      <td>0.82</td>\n",
       "      <td>8.36</td>\n",
       "      <td>0.30</td>\n",
       "      <td>2.65</td>\n",
       "      <td>0.10</td>\n",
       "      <td>...</td>\n",
       "      <td>2.17</td>\n",
       "      <td>5.72</td>\n",
       "      <td>2.14</td>\n",
       "      <td>3.17</td>\n",
       "      <td>16.77</td>\n",
       "      <td>2.19</td>\n",
       "      <td>1.30</td>\n",
       "      <td>8.94</td>\n",
       "      <td>3.28</td>\n",
       "      <td>0.19</td>\n",
       "    </tr>\n",
       "    <tr>\n",
       "      <th>Single young adult</th>\n",
       "      <td>6.64</td>\n",
       "      <td>0.11</td>\n",
       "      <td>3.61</td>\n",
       "      <td>29.43</td>\n",
       "      <td>0.43</td>\n",
       "      <td>0.86</td>\n",
       "      <td>8.33</td>\n",
       "      <td>0.31</td>\n",
       "      <td>2.69</td>\n",
       "      <td>0.10</td>\n",
       "      <td>...</td>\n",
       "      <td>2.14</td>\n",
       "      <td>5.73</td>\n",
       "      <td>2.16</td>\n",
       "      <td>3.28</td>\n",
       "      <td>16.68</td>\n",
       "      <td>2.24</td>\n",
       "      <td>1.43</td>\n",
       "      <td>8.99</td>\n",
       "      <td>3.25</td>\n",
       "      <td>0.22</td>\n",
       "    </tr>\n",
       "    <tr>\n",
       "      <th>Young parent</th>\n",
       "      <td>6.88</td>\n",
       "      <td>0.12</td>\n",
       "      <td>3.62</td>\n",
       "      <td>29.19</td>\n",
       "      <td>0.49</td>\n",
       "      <td>0.83</td>\n",
       "      <td>8.18</td>\n",
       "      <td>0.31</td>\n",
       "      <td>2.66</td>\n",
       "      <td>0.11</td>\n",
       "      <td>...</td>\n",
       "      <td>2.17</td>\n",
       "      <td>5.73</td>\n",
       "      <td>2.21</td>\n",
       "      <td>3.29</td>\n",
       "      <td>16.86</td>\n",
       "      <td>2.22</td>\n",
       "      <td>1.32</td>\n",
       "      <td>8.98</td>\n",
       "      <td>3.24</td>\n",
       "      <td>0.21</td>\n",
       "    </tr>\n",
       "  </tbody>\n",
       "</table>\n",
       "<p>6 rows × 21 columns</p>\n",
       "</div>"
      ],
      "text/plain": [
       "department_id       1.00   2.00   3.00   4.00   5.00   6.00   7.00   8.00   \\\n",
       "family_type                                                                  \n",
       "Middle age parent    6.80   0.11   3.61  29.36   0.46   0.82   8.30   0.29   \n",
       "Senior parent        6.85   0.11   3.62  29.39   0.45   0.81   8.37   0.30   \n",
       "Single middle age    6.80   0.12   3.66  29.47   0.51   0.83   8.34   0.30   \n",
       "Single senior        6.93   0.11   3.62  29.42   0.44   0.82   8.36   0.30   \n",
       "Single young adult   6.64   0.11   3.61  29.43   0.43   0.86   8.33   0.31   \n",
       "Young parent         6.88   0.12   3.62  29.19   0.49   0.83   8.18   0.31   \n",
       "\n",
       "department_id       9.00   10.00  ...  12.00  13.00  14.00  15.00  16.00  \\\n",
       "family_type                       ...                                      \n",
       "Middle age parent    2.65   0.11  ...   2.18   5.75   2.16   3.25  16.75   \n",
       "Senior parent        2.64   0.11  ...   2.20   5.76   2.16   3.27  16.67   \n",
       "Single middle age    2.59   0.11  ...   2.11   5.70   2.15   3.26  16.78   \n",
       "Single senior        2.65   0.10  ...   2.17   5.72   2.14   3.17  16.77   \n",
       "Single young adult   2.69   0.10  ...   2.14   5.73   2.16   3.28  16.68   \n",
       "Young parent         2.66   0.11  ...   2.17   5.73   2.21   3.29  16.86   \n",
       "\n",
       "department_id       17.00  18.00  19.00  20.00  21.00  \n",
       "family_type                                            \n",
       "Middle age parent    2.26   1.34   8.98   3.22   0.21  \n",
       "Senior parent        2.29   1.32   8.90   3.24   0.21  \n",
       "Single middle age    2.19   1.34   8.90   3.28   0.21  \n",
       "Single senior        2.19   1.30   8.94   3.28   0.19  \n",
       "Single young adult   2.24   1.43   8.99   3.25   0.22  \n",
       "Young parent         2.22   1.32   8.98   3.24   0.21  \n",
       "\n",
       "[6 rows x 21 columns]"
      ]
     },
     "execution_count": 51,
     "metadata": {},
     "output_type": "execute_result"
    }
   ],
   "source": [
    "crosstab_3"
   ]
  },
  {
   "cell_type": "markdown",
   "id": "176570f1-21c0-45e0-be41-0a733ecead56",
   "metadata": {},
   "source": [
    "This tables shows us which departments are most popular in each family type, it is represented in percentiles. All family types have similar food choices so I would suggest that the preferences are global and the family type does not affect these."
   ]
  },
  {
   "cell_type": "code",
   "execution_count": 49,
   "id": "735ca58c-3c49-4a0b-b945-ca533c5a3f0e",
   "metadata": {},
   "outputs": [],
   "source": [
    "crosstab_4 = pd.crosstab(df_exclusion['region'], df_exclusion['department_id'], normalize = 'index') * 100"
   ]
  },
  {
   "cell_type": "code",
   "execution_count": 1,
   "id": "47ebeead-eb1a-488c-bd07-295bf6a6a937",
   "metadata": {},
   "outputs": [
    {
     "ename": "NameError",
     "evalue": "name 'crosstab_4' is not defined",
     "output_type": "error",
     "traceback": [
      "\u001b[1;31m---------------------------------------------------------------------------\u001b[0m",
      "\u001b[1;31mNameError\u001b[0m                                 Traceback (most recent call last)",
      "Cell \u001b[1;32mIn[1], line 1\u001b[0m\n\u001b[1;32m----> 1\u001b[0m crosstab_4\u001b[38;5;241m.\u001b[39mto_clipboard()\n",
      "\u001b[1;31mNameError\u001b[0m: name 'crosstab_4' is not defined"
     ]
    }
   ],
   "source": [
    "crosstab_4.to_clipboard()"
   ]
  },
  {
   "cell_type": "markdown",
   "id": "4607633e-8eca-458b-a0c0-1264dd2139f2",
   "metadata": {},
   "source": [
    "This tables shows us which departments are most popular in each region, it is represented in percentiles. Numbers are pretty simmilar between all regions so I would suggest that the diet of our costumers is similar across all regions."
   ]
  },
  {
   "cell_type": "code",
   "execution_count": null,
   "id": "95cc4acd-849d-416a-8e95-6fb904bba09b",
   "metadata": {},
   "outputs": [],
   "source": [
    "df_exclusion.to_pickle(os.path.join(path, '02 Data', 'Prepared Data', 'df_exclusion.pkl'))"
   ]
  },
  {
   "cell_type": "code",
   "execution_count": null,
   "id": "61fbb638-afaf-4f3d-b7b2-42572b679be0",
   "metadata": {},
   "outputs": [],
   "source": []
  }
 ],
 "metadata": {
  "kernelspec": {
   "display_name": "Python 3 (ipykernel)",
   "language": "python",
   "name": "python3"
  },
  "language_info": {
   "codemirror_mode": {
    "name": "ipython",
    "version": 3
   },
   "file_extension": ".py",
   "mimetype": "text/x-python",
   "name": "python",
   "nbconvert_exporter": "python",
   "pygments_lexer": "ipython3",
   "version": "3.11.7"
  }
 },
 "nbformat": 4,
 "nbformat_minor": 5
}
