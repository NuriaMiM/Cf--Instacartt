{
 "cells": [
  {
   "cell_type": "markdown",
   "id": "4cf99887-d1a4-4b61-b8fe-8a0832f59c6e",
   "metadata": {},
   "source": [
    "# Exercise 4.6 TASK"
   ]
  },
  {
   "cell_type": "code",
   "execution_count": 2,
   "id": "8381b70e-a6ed-4923-bec2-fb477a5f3f78",
   "metadata": {},
   "outputs": [],
   "source": [
    "# Importing libraries\n",
    "import pandas as pd\n",
    "import numpy as np\n",
    "import os"
   ]
  },
  {
   "cell_type": "code",
   "execution_count": 3,
   "id": "7ba24e9f-fa26-4c05-84b4-840c42a6b816",
   "metadata": {},
   "outputs": [],
   "source": [
    "#Step 3\n",
    "path = r'C:\\Users\\nmiqu\\Desktop\\DATA\\CareerFoundry\\Data Analytics Immersion\\April-2024 Instacart Baket Analysis\\02 Data'\n",
    "df_orders_products_combined = pd.read_pickle(os.path.join(path, 'Prepared Data', 'orders_products_combined.pkl'))"
   ]
  },
  {
   "cell_type": "code",
   "execution_count": 4,
   "id": "fa79651c-a50a-404b-b0ea-975b00f69cee",
   "metadata": {},
   "outputs": [
    {
     "name": "stdout",
     "output_type": "stream",
     "text": [
      "<class 'pandas.core.frame.DataFrame'>\n",
      "RangeIndex: 32434489 entries, 0 to 32434488\n",
      "Data columns (total 12 columns):\n",
      " #   Column                  Dtype   \n",
      "---  ------                  -----   \n",
      " 0   Unnamed: 0.1            int64   \n",
      " 1   Unnamed: 0              int64   \n",
      " 2   order_id                int64   \n",
      " 3   user_id                 int64   \n",
      " 4   order_number            int64   \n",
      " 5   orders_day_of_week      int64   \n",
      " 6   hour_order_is_made      int64   \n",
      " 7   days_since_prior_order  float64 \n",
      " 8   product_id              int64   \n",
      " 9   add_to_cart_order       int64   \n",
      " 10  reordered               int64   \n",
      " 11  _merge                  category\n",
      "dtypes: category(1), float64(1), int64(10)\n",
      "memory usage: 2.7 GB\n"
     ]
    }
   ],
   "source": [
    "df_orders_products_combined.info()"
   ]
  },
  {
   "cell_type": "code",
   "execution_count": 5,
   "id": "52f787c5-1ce7-4b21-a03c-360def835f62",
   "metadata": {},
   "outputs": [],
   "source": [
    "df_orders_products_combined['order_id'] = df_orders_products_combined['order_id'].astype('int32')\n",
    "df_orders_products_combined['user_id'] = df_orders_products_combined['user_id'].astype('int32')\n",
    "df_orders_products_combined['order_number'] = df_orders_products_combined['order_number'].astype('int32')\n",
    "df_orders_products_combined['orders_day_of_week'] = df_orders_products_combined['orders_day_of_week'].astype('int32')\n",
    "df_orders_products_combined['hour_order_is_made'] = df_orders_products_combined['hour_order_is_made'].astype('int32')\n",
    "df_orders_products_combined['days_since_prior_order'] = df_orders_products_combined['days_since_prior_order'].astype('float32')\n",
    "df_orders_products_combined['product_id'] = df_orders_products_combined['product_id'].astype('int32')\n",
    "df_orders_products_combined['add_to_cart_order'] = df_orders_products_combined['add_to_cart_order'].astype('int32')\n",
    "df_orders_products_combined['reordered'] = df_orders_products_combined['reordered'].astype('int32')"
   ]
  },
  {
   "cell_type": "code",
   "execution_count": 6,
   "id": "e75f44aa-ed27-4744-b299-54114371dbd7",
   "metadata": {},
   "outputs": [],
   "source": [
    "df_orders_products_combined_1 = df_orders_products_combined.drop(columns = ['Unnamed: 0.1', 'Unnamed: 0', '_merge'])"
   ]
  },
  {
   "cell_type": "code",
   "execution_count": 7,
   "id": "cbb9141f-1820-4452-afc7-26c8f4a35825",
   "metadata": {},
   "outputs": [
    {
     "data": {
      "text/plain": [
       "(32434489, 9)"
      ]
     },
     "execution_count": 7,
     "metadata": {},
     "output_type": "execute_result"
    }
   ],
   "source": [
    "#Step 4\n",
    "df_orders_products_combined_1.shape"
   ]
  },
  {
   "cell_type": "code",
   "execution_count": 8,
   "id": "d9d761a5-b0d2-473a-8106-2843249be82a",
   "metadata": {},
   "outputs": [],
   "source": [
    "# Step 5 -- I previously transformed the csv file to pickle because my computer was too slow\n",
    "df_prods = pd.read_pickle(os.path.join(path, 'Prepared Data', 'products_clean_pickle.pkl'))"
   ]
  },
  {
   "cell_type": "markdown",
   "id": "9ed95c25-2cc8-42a6-a162-6ecb3b510fa5",
   "metadata": {},
   "source": [
    "#### I think a suitable way of combining these two together would be merging it, since I want to include all columns into the new dataframe. I will use an outer join because this will let me have information on products that have not been ordered ever, which I believe can be useful information, and could be dropped later on if necessary."
   ]
  },
  {
   "cell_type": "code",
   "execution_count": 9,
   "id": "d4aee040-d626-4bca-9758-f3002bb08159",
   "metadata": {},
   "outputs": [
    {
     "name": "stdout",
     "output_type": "stream",
     "text": [
      "<class 'pandas.core.frame.DataFrame'>\n",
      "RangeIndex: 49672 entries, 0 to 49671\n",
      "Data columns (total 6 columns):\n",
      " #   Column         Non-Null Count  Dtype  \n",
      "---  ------         --------------  -----  \n",
      " 0   Unnamed: 0     49672 non-null  int64  \n",
      " 1   product_id     49672 non-null  int64  \n",
      " 2   product_name   49672 non-null  object \n",
      " 3   aisle_id       49672 non-null  int64  \n",
      " 4   department_id  49672 non-null  int64  \n",
      " 5   prices         49672 non-null  float64\n",
      "dtypes: float64(1), int64(4), object(1)\n",
      "memory usage: 2.3+ MB\n"
     ]
    }
   ],
   "source": [
    "df_prods.info()"
   ]
  },
  {
   "cell_type": "code",
   "execution_count": 10,
   "id": "96f94dbe-1443-429a-941e-b72a7e09953f",
   "metadata": {},
   "outputs": [],
   "source": [
    "df_prods['product_id'] = df_prods['product_id'].astype('int32')\n",
    "df_prods['aisle_id'] = df_prods['aisle_id'].astype('int32')\n",
    "df_prods['department_id'] = df_prods['department_id'].astype('int32')\n",
    "df_prods['prices'] = df_prods['prices'].astype('float32')"
   ]
  },
  {
   "cell_type": "code",
   "execution_count": 11,
   "id": "36f676fe-0fab-420a-beb8-df379405609d",
   "metadata": {},
   "outputs": [],
   "source": [
    "df_prods_2 = df_prods.drop(columns =['Unnamed: 0'])"
   ]
  },
  {
   "cell_type": "code",
   "execution_count": 12,
   "id": "0db41a8f-7178-42f9-9874-508489dce00f",
   "metadata": {},
   "outputs": [],
   "source": [
    "# Merging\n",
    "df_merged = df_prods_2.merge(df_orders_products_combined_1, on = 'product_id', how = 'outer', indicator = True)"
   ]
  },
  {
   "cell_type": "code",
   "execution_count": 13,
   "id": "22733003-f6f1-4241-ae7f-05545ab180c1",
   "metadata": {},
   "outputs": [
    {
     "data": {
      "text/html": [
       "<div>\n",
       "<style scoped>\n",
       "    .dataframe tbody tr th:only-of-type {\n",
       "        vertical-align: middle;\n",
       "    }\n",
       "\n",
       "    .dataframe tbody tr th {\n",
       "        vertical-align: top;\n",
       "    }\n",
       "\n",
       "    .dataframe thead th {\n",
       "        text-align: right;\n",
       "    }\n",
       "</style>\n",
       "<table border=\"1\" class=\"dataframe\">\n",
       "  <thead>\n",
       "    <tr style=\"text-align: right;\">\n",
       "      <th></th>\n",
       "      <th>product_id</th>\n",
       "      <th>product_name</th>\n",
       "      <th>aisle_id</th>\n",
       "      <th>department_id</th>\n",
       "      <th>prices</th>\n",
       "      <th>order_id</th>\n",
       "      <th>user_id</th>\n",
       "      <th>order_number</th>\n",
       "      <th>orders_day_of_week</th>\n",
       "      <th>hour_order_is_made</th>\n",
       "      <th>days_since_prior_order</th>\n",
       "      <th>add_to_cart_order</th>\n",
       "      <th>reordered</th>\n",
       "      <th>_merge</th>\n",
       "    </tr>\n",
       "  </thead>\n",
       "  <tbody>\n",
       "    <tr>\n",
       "      <th>0</th>\n",
       "      <td>1</td>\n",
       "      <td>Chocolate Sandwich Cookies</td>\n",
       "      <td>61.0</td>\n",
       "      <td>19.0</td>\n",
       "      <td>5.8</td>\n",
       "      <td>3139998.0</td>\n",
       "      <td>138.0</td>\n",
       "      <td>28.0</td>\n",
       "      <td>6.0</td>\n",
       "      <td>11.0</td>\n",
       "      <td>3.0</td>\n",
       "      <td>5.0</td>\n",
       "      <td>0.0</td>\n",
       "      <td>both</td>\n",
       "    </tr>\n",
       "    <tr>\n",
       "      <th>1</th>\n",
       "      <td>1</td>\n",
       "      <td>Chocolate Sandwich Cookies</td>\n",
       "      <td>61.0</td>\n",
       "      <td>19.0</td>\n",
       "      <td>5.8</td>\n",
       "      <td>1977647.0</td>\n",
       "      <td>138.0</td>\n",
       "      <td>30.0</td>\n",
       "      <td>6.0</td>\n",
       "      <td>17.0</td>\n",
       "      <td>20.0</td>\n",
       "      <td>1.0</td>\n",
       "      <td>1.0</td>\n",
       "      <td>both</td>\n",
       "    </tr>\n",
       "    <tr>\n",
       "      <th>2</th>\n",
       "      <td>1</td>\n",
       "      <td>Chocolate Sandwich Cookies</td>\n",
       "      <td>61.0</td>\n",
       "      <td>19.0</td>\n",
       "      <td>5.8</td>\n",
       "      <td>389851.0</td>\n",
       "      <td>709.0</td>\n",
       "      <td>2.0</td>\n",
       "      <td>0.0</td>\n",
       "      <td>21.0</td>\n",
       "      <td>6.0</td>\n",
       "      <td>20.0</td>\n",
       "      <td>0.0</td>\n",
       "      <td>both</td>\n",
       "    </tr>\n",
       "    <tr>\n",
       "      <th>3</th>\n",
       "      <td>1</td>\n",
       "      <td>Chocolate Sandwich Cookies</td>\n",
       "      <td>61.0</td>\n",
       "      <td>19.0</td>\n",
       "      <td>5.8</td>\n",
       "      <td>652770.0</td>\n",
       "      <td>764.0</td>\n",
       "      <td>1.0</td>\n",
       "      <td>3.0</td>\n",
       "      <td>13.0</td>\n",
       "      <td>7.0</td>\n",
       "      <td>10.0</td>\n",
       "      <td>0.0</td>\n",
       "      <td>both</td>\n",
       "    </tr>\n",
       "    <tr>\n",
       "      <th>4</th>\n",
       "      <td>1</td>\n",
       "      <td>Chocolate Sandwich Cookies</td>\n",
       "      <td>61.0</td>\n",
       "      <td>19.0</td>\n",
       "      <td>5.8</td>\n",
       "      <td>1813452.0</td>\n",
       "      <td>764.0</td>\n",
       "      <td>3.0</td>\n",
       "      <td>4.0</td>\n",
       "      <td>17.0</td>\n",
       "      <td>9.0</td>\n",
       "      <td>11.0</td>\n",
       "      <td>1.0</td>\n",
       "      <td>both</td>\n",
       "    </tr>\n",
       "  </tbody>\n",
       "</table>\n",
       "</div>"
      ],
      "text/plain": [
       "   product_id                product_name  aisle_id  department_id  prices  \\\n",
       "0           1  Chocolate Sandwich Cookies      61.0           19.0     5.8   \n",
       "1           1  Chocolate Sandwich Cookies      61.0           19.0     5.8   \n",
       "2           1  Chocolate Sandwich Cookies      61.0           19.0     5.8   \n",
       "3           1  Chocolate Sandwich Cookies      61.0           19.0     5.8   \n",
       "4           1  Chocolate Sandwich Cookies      61.0           19.0     5.8   \n",
       "\n",
       "    order_id  user_id  order_number  orders_day_of_week  hour_order_is_made  \\\n",
       "0  3139998.0    138.0          28.0                 6.0                11.0   \n",
       "1  1977647.0    138.0          30.0                 6.0                17.0   \n",
       "2   389851.0    709.0           2.0                 0.0                21.0   \n",
       "3   652770.0    764.0           1.0                 3.0                13.0   \n",
       "4  1813452.0    764.0           3.0                 4.0                17.0   \n",
       "\n",
       "   days_since_prior_order  add_to_cart_order  reordered _merge  \n",
       "0                     3.0                5.0        0.0   both  \n",
       "1                    20.0                1.0        1.0   both  \n",
       "2                     6.0               20.0        0.0   both  \n",
       "3                     7.0               10.0        0.0   both  \n",
       "4                     9.0               11.0        1.0   both  "
      ]
     },
     "execution_count": 13,
     "metadata": {},
     "output_type": "execute_result"
    }
   ],
   "source": [
    "# Step 6\n",
    "df_merged.head()"
   ]
  },
  {
   "cell_type": "code",
   "execution_count": 14,
   "id": "48a31daf-95fd-469a-9936-e22f79dc46ea",
   "metadata": {},
   "outputs": [
    {
     "data": {
      "text/plain": [
       "_merge\n",
       "both          32404859\n",
       "right_only       30200\n",
       "left_only           11\n",
       "Name: count, dtype: int64"
      ]
     },
     "execution_count": 14,
     "metadata": {},
     "output_type": "execute_result"
    }
   ],
   "source": [
    "df_merged['_merge'].value_counts()"
   ]
  },
  {
   "cell_type": "code",
   "execution_count": 15,
   "id": "a5263ee7-7854-49c7-9dbb-0a35c1dd3b7c",
   "metadata": {},
   "outputs": [],
   "source": [
    "# Step 7\n",
    "df_merged.to_pickle(os.path.join(path, 'Prepared Data', 'ords_prods_merge.pkl'))"
   ]
  },
  {
   "cell_type": "markdown",
   "id": "78f03696-61e0-41c7-af0f-23ace07617b2",
   "metadata": {},
   "source": [
    "#### I exported the dataframe to a pickle format because of it's size, this way it will be faster to import next time."
   ]
  },
  {
   "cell_type": "code",
   "execution_count": null,
   "id": "5712f06f-73fb-4095-bc2c-ae155ba4d3b3",
   "metadata": {},
   "outputs": [],
   "source": []
  }
 ],
 "metadata": {
  "kernelspec": {
   "display_name": "Python 3 (ipykernel)",
   "language": "python",
   "name": "python3"
  },
  "language_info": {
   "codemirror_mode": {
    "name": "ipython",
    "version": 3
   },
   "file_extension": ".py",
   "mimetype": "text/x-python",
   "name": "python",
   "nbconvert_exporter": "python",
   "pygments_lexer": "ipython3",
   "version": "3.11.7"
  }
 },
 "nbformat": 4,
 "nbformat_minor": 5
}
